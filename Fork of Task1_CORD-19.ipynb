{
 "cells": [
  {
   "cell_type": "markdown",
   "metadata": {},
   "source": [
    "# About this notebook"
   ]
  },
  {
   "cell_type": "markdown",
   "metadata": {},
   "source": [
    "#### The novel **COVID-19** has come and changed how we as humans in this new era of civilization, view diseases. Everything escalated quickly, number of confirmed cases increased exponentially with the R number (which signifies the average number of people which one person infected person will pass the virus to) between 2 and 2.5 at the beginning, and what made it harder is that we don’t understand the disease and more and more lives were lost, we’re in a race with time to try to save as many lives as possible, we want to know more about the disease to flatten the curve, i.e. decrease the R number, and by knowing the risk factors to covid-19, we will be able to do so!! \n",
    "\n",
    "#### *And this is what our model aims to, by directing the healthcare giver to the most relevant paper that he might find what he’s looking for. And if our solution saved only one life, then we would be very proud that applying some science and using our time did this!*"
   ]
  },
  {
   "cell_type": "markdown",
   "metadata": {},
   "source": [
    "## Importing Important Libraries"
   ]
  },
  {
   "cell_type": "code",
   "execution_count": 51,
   "metadata": {
    "_cell_guid": "b1076dfc-b9ad-4769-8c92-a6c4dae69d19",
    "_uuid": "8f2839f25d086af736a60e9eeb907d3b93b6e0e5"
   },
   "outputs": [],
   "source": [
    "import os\n",
    "import json\n",
    "import math\n",
    "import numpy as np \n",
    "import pandas as pd \n",
    "import nltk\n",
    "from nltk.corpus import stopwords\n",
    "from nltk.tokenize import word_tokenize\n",
    "from nltk.probability import FreqDist\n",
    "from nltk.util import bigrams, trigrams, ngrams\n",
    "from sklearn.feature_extraction.text import TfidfVectorizer\n"
   ]
  },
  {
   "cell_type": "markdown",
   "metadata": {},
   "source": [
    "## Preprocessing Data"
   ]
  },
  {
   "cell_type": "markdown",
   "metadata": {},
   "source": [
    "### Tokenizing the body text of a paper\n",
    "By removing unnecessary words, punctuation marks, currency symbols and numbers"
   ]
  },
  {
   "cell_type": "code",
   "execution_count": 127,
   "metadata": {},
   "outputs": [],
   "source": [
    "def textPreprocessing (text):    \n",
    "    stop_words = stopwords.words(\"english\")\n",
    "    stop_words += [wr for wr in ['one','av','however','moreover','yet']]\n",
    "    words = nltk.word_tokenize(text)\n",
    "    new_words =[] \n",
    "    for word in words: \n",
    "        word = word.lower()\n",
    "        if ((word not in stop_words) and (word.isalpha())):\n",
    "            new_words.append(word)\n",
    "    return new_words #list of words in a text"
   ]
  },
  {
   "cell_type": "markdown",
   "metadata": {},
   "source": [
    "### Retrieving json files of document from the directory"
   ]
  },
  {
   "cell_type": "code",
   "execution_count": 161,
   "metadata": {},
   "outputs": [],
   "source": [
    "def textReading(file_dir,x=0,y=10):\n",
    "    filenames = os.listdir(file_dir)\n",
    "#     all_files = []\n",
    "    docs_bagOfWords = {}\n",
    "    for filename in filenames[x:y]: \n",
    "        text = ''\n",
    "        file = json.load(open(os.path.join(json_dir,filename), 'rb'))\n",
    "        for i in file['body_text']:\n",
    "            text += i['text']  \n",
    "        docs_bagOfWords[(filename[:-5],file['metadata']['title'])] = textPreprocessing(text)\n",
    "    return docs_bagOfWords #dictionary {paper_id:[]}"
   ]
  },
  {
   "cell_type": "code",
   "execution_count": 171,
   "metadata": {},
   "outputs": [],
   "source": [
    "json_dir = '/kaggle/input/CORD-19-research-challenge/document_parses/pdf_json'\n",
    "docs_bagOfWords = textReading(json_dir,100,200)"
   ]
  },
  {
   "cell_type": "markdown",
   "metadata": {},
   "source": [
    "# Implementing Raw TF-IDF"
   ]
  },
  {
   "cell_type": "markdown",
   "metadata": {},
   "source": [
    "## First, TF (Term Frequency Calculation)"
   ]
  },
  {
   "cell_type": "markdown",
   "metadata": {},
   "source": [
    "![](https://miro.medium.com/proxy/1*HM0Vcdrx2RApOyjp_ZeW_Q.png)"
   ]
  },
  {
   "cell_type": "markdown",
   "metadata": {},
   "source": [
    "## Computing IDF"
   ]
  },
  {
   "cell_type": "markdown",
   "metadata": {},
   "source": [
    "![](https://miro.medium.com/proxy/1*A5YGwFpcTd0YTCdgoiHFUw.png)"
   ]
  },
  {
   "cell_type": "markdown",
   "metadata": {},
   "source": [
    "## Computing TF-IDF"
   ]
  },
  {
   "cell_type": "markdown",
   "metadata": {},
   "source": [
    "![](https://miro.medium.com/proxy/1*nSqHXwOIJ2fa_EFLTh5KYw.png)"
   ]
  },
  {
   "cell_type": "markdown",
   "metadata": {},
   "source": [
    "# Implementing TF-IDF Using sklearn"
   ]
  },
  {
   "cell_type": "code",
   "execution_count": 1,
   "metadata": {},
   "outputs": [],
   "source": [
    "def totalTFIDF(docs_bagOfWords):\n",
    "    \"\"\"\n",
    "    Calculating TFIDF for the whole documents\n",
    "    Args:\n",
    "        docs_bagOfWords: dict bag of words of each paper\n",
    "    Returns:\n",
    "        documentsText: list of strings (the complete body text of each document) \n",
    "        feature_names: list of strings (the total vocab unique words)\n",
    "        tfidf_dict: dict with paper_id as keys and list of tfidf for this paper\n",
    "    \"\"\"\n",
    "    vectorizer = TfidfVectorizer()\n",
    "    documentsText = []\n",
    "    for k in docs_bagOfWords.keys():\n",
    "        str1 = ' '\n",
    "        str1 = str1.join(docs_bagOfWords[k])\n",
    "        documentsText.append(str1)\n",
    "    vectors = vectorizer.fit_transform(documentsText)\n",
    "    feature_names = vectorizer.get_feature_names()\n",
    "    dense = vectors.todense()\n",
    "    denselist = dense.tolist()\n",
    "    df = pd.DataFrame(denselist, columns=feature_names)\n",
    "    tfidf_dict = {}\n",
    "    for key,tfidf in zip(docs_bagOfWords.keys(),denselist):\n",
    "        tfidf_dict[key] = tfidf\n",
    "    return documentsText,feature_names,tfidf_dict\n"
   ]
  },
  {
   "cell_type": "code",
   "execution_count": 142,
   "metadata": {},
   "outputs": [],
   "source": [
    "def calculateTFIDF(vec_query):\n",
    "    \"\"\"\n",
    "    docs_bagOfWords: dict bag of words of each paper\n",
    "    \"\"\"\n",
    "    vectorizer = TfidfVectorizer()\n",
    "    documentsText = []\n",
    "    str1 = ' '\n",
    "    str1 = str1.join(vec_query)\n",
    "    documentsText.append(str1)\n",
    "    vectors = vectorizer.fit_transform(documentsText)\n",
    "    feature_names = vectorizer.get_feature_names()\n",
    "    dense = vectors.todense()\n",
    "    denselist = dense.tolist()\n",
    "    df = pd.DataFrame(denselist, columns=feature_names)\n",
    "    return denselist,feature_names"
   ]
  },
  {
   "cell_type": "code",
   "execution_count": 143,
   "metadata": {},
   "outputs": [],
   "source": [
    "def getTotalVocab(docs):\n",
    "    \"\"\"\n",
    "    for getting the total_vocab of the given documents in the form of list of words\n",
    "    \"\"\"\n",
    "    total_vocab = []\n",
    "    for i in d:\n",
    "        total_vocab += i.split(' ')\n",
    "    return total_vocab #list of total vocab"
   ]
  },
  {
   "cell_type": "code",
   "execution_count": 163,
   "metadata": {},
   "outputs": [],
   "source": [
    "d,features,tfidf_dict = totalTFIDF(docs_bagOfWords)\n",
    "total_vocab = getTotalVocab(d)"
   ]
  },
  {
   "cell_type": "markdown",
   "metadata": {},
   "source": [
    "### Calculating Cosine Distance"
   ]
  },
  {
   "cell_type": "markdown",
   "metadata": {},
   "source": [
    "![image.png](http://sites.temple.edu/tudsc/files/2017/03/cosine-equation.png)\n"
   ]
  },
  {
   "cell_type": "markdown",
   "metadata": {},
   "source": [
    "#### Cosine similarity measures the similarity between two vectors of an inner product space. It is measured by the cosine of the angle between two vectors and determines whether two vectors are pointing in roughly the same direction.\n",
    "![](http://miro.medium.com/max/650/1*OGD_U_lnYFDdlQRXuOZ9vQ.png)\n",
    "A document can be represented by thousands of attributes, each recording the frequency of a particular word (such as a keyword) or phrase in the document. Thus, each document is an object represented by what is called a term-frequency vector.\n",
    "This is what implemented in this model, to find to what extent the input query is similar to the available documents and help us in answering the inquiries about the risk factors of the newly arised COVID-19 virus."
   ]
  },
  {
   "cell_type": "code",
   "execution_count": 145,
   "metadata": {},
   "outputs": [],
   "source": [
    "def getCosineDistance(q_vec,doc_dict):\n",
    "    \"\"\"\n",
    "    Calculates the cosine distance between a query and documents\n",
    "    Args:\n",
    "        q_vec: A vector representing the query\n",
    "        doc_dict: Dictionary having with - key as a document title\n",
    "                                         - value as vector representation for this document\n",
    "    Returns:\n",
    "        q_norm: The norm of the input query\n",
    "        cosDistances: Dictionary containing the documents sorted according to their cosine distances with the query\n",
    "    \n",
    "    \"\"\"\n",
    "    cosDistances = {}\n",
    "    q_norm = np.linalg.norm(q_vec)\n",
    "    for k in doc_dict.keys():\n",
    "        v2 = doc_dict[k]\n",
    "        z = np.zeros(((len(v2)-len(q_vec)),))\n",
    "        q_vec = np.concatenate((q_vec,z), axis=0)\n",
    "        dotProduct = np.dot(q_vec,v2)\n",
    "        cosDistances[k] = dotProduct/(q_norm*np.linalg.norm(v2))\n",
    "    cosDistances = {i: j for i, j in sorted(cosDistances.items(), key=lambda item: item[1],reverse=True)}\n",
    "    return q_norm, cosDistances\n",
    "        "
   ]
  },
  {
   "cell_type": "markdown",
   "metadata": {},
   "source": [
    "The input question is to be placed in corpus variable"
   ]
  },
  {
   "cell_type": "code",
   "execution_count": 164,
   "metadata": {},
   "outputs": [],
   "source": [
    "corpus = \"other isolates had been stored at the -70C for up to 12 months.The reagents were prepared by Ani Biotech Oy. Helsinki, Finland, and supplied by Mercia Diagnostics, Guildford.UK. The test latex was coated with immunoglobulins to the AV hexon antigen and the control latex with normal immunoglobulin; the test was therefore group specific in principle. The method recommended by the supplier was followed for examining faeces. Dilution buffer was prepared by dissolving one of the buffer tablets supplied (constituents not stated) in 100 ml distilled H20. An approximate 10% suspension of each faeces was prepared by thoroughly mixing about 0.1 g sample with 1 ml buffer in clean plastic 75 X 12 mm tubes. The suspensions were clarified by centrifugation at 2000 rpm for 5 min. One drop (approximately 50 ~1) of supernatant was placed in each of two circles on a glass agglutination plate: to one a drop of test latex was added and a drop of control latex to the other. These were mixed with the tip of a wooden swab stick and the plate gently rocked. The time taken for any agglutination to occur was noted. A sample was deemed positive if definite agglutination of the test latex, but not control latex. occurred with 3 min rocking. The strength of reaction was graded from + to +++: a + reaction in which there was slight granularity of the latex, but not unequivocal agglutination, was considered to be negative. If both test and control latexes clumped the reaction was classified as non-specific. Cell culture isolates were tested as described above except that undiluted culture fluid was used in place of the faecal extract.\"\n",
    "text_filtered = textPreprocessing(corpus)\n",
    "tfidfList,words = calculateTFIDF(text_filtered)\n"
   ]
  },
  {
   "cell_type": "code",
   "execution_count": 165,
   "metadata": {},
   "outputs": [],
   "source": [
    "q_norm,c = getCosineDistance(tfidfList[0],tfidf_dict)"
   ]
  },
  {
   "cell_type": "markdown",
   "metadata": {},
   "source": [
    "The output results are:"
   ]
  },
  {
   "cell_type": "code",
   "execution_count": 170,
   "metadata": {},
   "outputs": [
    {
     "data": {
      "text/plain": [
       "{('62f5dc6a3bf7eaffcf4a955b6358e27dd13d0fa5',\n",
       "  'Overexpression of PTEN suppresses lipopolysaccharide-induced lung fibroblast proliferation, differentiation and collagen secretion through inhibition of the PI3-K-Akt-GSK3beta pathway'): 0.04039606918010143,\n",
       " ('fefdbba94acf90ff54825e10d843284f26346303',\n",
       "  'COVID-19: Easing the coronavirus lockdowns with caution'): 0.021354119077884755,\n",
       " ('7b29829a47fbada5035c500e88a3fb6945267116',\n",
       "  'Peering through the portal: COVID-19 and the future of agriculture'): 0.017051198290966473,\n",
       " ('4eb0645a5ab563b06ec101914438267b6552a95e',\n",
       "  'Synthesis and Anticancer Activities of Glycyrrhetinic Acid Derivatives'): 0.015573987595086864,\n",
       " ('3fec1d8c1c53fcf800e5efb362ad214e901196fd',\n",
       "  'Viruses as Quasispecies: Biological Implications'): 0.01471427778404008,\n",
       " ('1c0ae4beee003ecb59ff15f81ed8f22cd9451353', ''): 0.013244661079051333,\n",
       " ('7a0da4f2fa4aa0d32a6590cc1fbe33fcb1bf2b86',\n",
       "  'ENGINEERING CROWDSOURCED STREAM PROCESSING SYSTEMS'): 0.012450062722856325,\n",
       " ('03bb746ba6fb4c250b5f8f9ff0e5013b2c49b8f7',\n",
       "  'Immunogenicity of adenovirus-vector vaccine targeting hepatitis B virus: non-clinical safety assessment in non-human primates'): 0.010898942095968362,\n",
       " ('a7d66beaa64978f88c81c7aefe1e9b693ba1716d',\n",
       "  'ANesthesiA & ANALGesiA'): 0.009541633554566458,\n",
       " ('6642e025d627d5fe905f9a59989b6e8b99fe0951',\n",
       "  'Journal of Perianesthesia Nursing Mamaril ME, Perianesthesia Nurses Called to Practice in Extraordinary Times'): 0.009467777085130687,\n",
       " ('6f192000b0e87fe2c55632441655de31c61596c4',\n",
       "  'ENVIRONMENTAL BIOTECHNOLOGY Bacterial survival in evaporating deposited droplets on a teflon-coated surface'): 0.008884431773593071,\n",
       " ('e72f91f553000173f352d43f51c278e9c29a39af',\n",
       "  'Education and training in microbial forensics Public information (media and public) Dissemination of accurate information in timely manner Entertainment industry Depiction of accurate information Microbial forensic curricula and training'): 0.00879423414557422,\n",
       " ('2a753c9ec1b4376606a18b951f4257a602248ddd',\n",
       "  'Treatment of Neuroterrorism'): 0.007882426118356803,\n",
       " ('f2c0b9522fa1182a62cf2189d96205e3a93d5e89',\n",
       "  'Role of microbiota on lung homeostasis and diseases'): 0.007608214686130139,\n",
       " ('589228c7724afbcb94da6048649f4afc735ae912',\n",
       "  'Journal Pre-proof \"Does having diabetes increase chances of contracting COVID-19 infection?\"'): 0.0071112578675834185,\n",
       " ('a55fa1b2c79ae1df4c9101251eb70cbdc9ae79c3',\n",
       "  'Current progress in antiviral strategies'): 0.006872676537109202,\n",
       " ('a58d30d48fec47f4755e7db37ecda010411f6ada',\n",
       "  'ARTICLE IN PRESS G Model of Pages 2 Transfusion Clinique et Biologique xxx (2020) xxx-xxx'): 0.006750393977993951,\n",
       " ('e846a66df38ee359002817baaea792a60ee05e75',\n",
       "  'Surveillance of the Middle East respiratory syndrome (MERS) coronavirus (CoV) infection in healthcare workers after contact with confirmed MERS patients: incidence and risk factors of MERS-CoV seropositivity'): 0.006554609172255506,\n",
       " ('6e5ff0f99e4a069dadc4d36cf881b1f6bce05674',\n",
       "  'Viral Pathogens and Acute Lung Injury: Investigations Inspired by the SARS Epidemic and the 2009 H1N1 Influenza Pandemic NIH Public Access'): 0.006381446971008917,\n",
       " ('6e92448f4872cddb054d5fe388a85030e6ca8c96',\n",
       "  'Origination and consequences of bovine viral diarrhea virus diversity'): 0.006362299533281057,\n",
       " ('1f7394c2575f1eb1a196c9f19cd4b57ddd05789b',\n",
       "  'Quantifying Pathogen Surveillance Using Temporal Genomic Data'): 0.006262434530982562,\n",
       " ('cb3b31a9689432915797aa26a1f3191eaec335b5',\n",
       "  'A collaborative online AI engine for CT-based COVID-19 diagnosis 1 2'): 0.0062525414223239964,\n",
       " ('ca3ec32e48de0225bed8ed43b7ad093d2f86ae0d',\n",
       "  'A pilot study on the disinfection efficacy of localized UV on the flushing- generated spread of pathogens'): 0.006239926885328406,\n",
       " ('5934262a2b502aa5c1312dca72507395da00ccbe',\n",
       "  'Review Article Neopterin in Diagnosis and Monitoring of Infectious Diseases'): 0.0062075087048557055,\n",
       " ('93387fc895bc5dea56fd858fff48fd3ffe454e65',\n",
       "  'The avian coronavirus spike protein'): 0.006202990223985794,\n",
       " ('11bf70f6a247a191ddaf8ed602d6c7997bdb43d5',\n",
       "  'Wisselende presentatie van antiglomerulaire-basaalmembraanziekte SNELLE HERKENNING VAN VITAAL BELANG'): 0.006003159205125249,\n",
       " ('2e3c6d9e2a2a8d2d9b43d5ae7b882c9a82557274',\n",
       "  'Ebola Virus Neutralizing Antibodies Detectable in Survivors of the Yambuku, Zaire Outbreak 40 Years after Infection'): 0.006002042101729895,\n",
       " ('eccc33ccb0e981e31f4d18d258274a7dae3ca2bc',\n",
       "  'Identification of Diaryl-Quinoline Compounds as Entry Inhibitors of Ebola Virus'): 0.00558601668490337,\n",
       " ('1422137eb3c0e29894131dea7327b91e1fab22a6',\n",
       "  'Strategies of Preparedness Response to Biological Warfare and Bioterrorism Threats'): 0.005560362638816028,\n",
       " ('92ca79afc9f624d2ff6417edfd83e081fcace484',\n",
       "  'Performance of TEM-PCR vs Culture for Bacterial Identification in Pediatric Musculoskeletal Infections'): 0.00555099107304231,\n",
       " ('a46068680bed1e68bae768f1d753afd6c4f09582',\n",
       "  'Induction of Antibodies Protecting against Transmissible Gastroenteritis Coronavirus (TGEV) by Recombinant Adenovirus Expressing TGEV Spike Protein'): 0.005447137891432643,\n",
       " ('76a359bbe7b11b23a303a020b7271d1de538430b',\n",
       "  'The prevalence of Middle East respiratory Syndrome coronavirus (MERS-CoV) infection in livestock and temporal relation to locations and seasons'): 0.005327495128670688,\n",
       " ('de44987232392062e85d1c1f46e14e09fc836361',\n",
       "  'Natively unfolded nucleic acid binding P8 domain of SeMV polyprotein 2a affects the novel ATPase activity of the preceding P10 domain'): 0.005200460967110815,\n",
       " ('44a72d588403ad04db06172ce6557173cdc2bcc2',\n",
       "  'Viruses Associated With Influenza-Like-Illnesses in Papua New Guinea, 2010'): 0.005182343637700217,\n",
       " ('b5d97f9d3c0dc8fd23ff1b5520102c1374e80179', ''): 0.005165878781076349,\n",
       " ('ef4165acd18952fb24b714cd1d048f216a3adf38',\n",
       "  'Severe Acute Respiratory Syndrome (SARS)'): 0.005157763587746376,\n",
       " ('775d48ccbcaf3adf46f90eab583fa087c6acf0c1',\n",
       "  'To appear in: Injury'): 0.00507023524692808,\n",
       " ('434b2df349cc69ff8142c7793f029c8f3a48db38', ''): 0.004987705323800786,\n",
       " ('d31b2db65b2e8d40eee096d5e67185099c10c4d2',\n",
       "  'Basal Autophagy Is Required for Herpes simplex Virus-2 Infection OPEN'): 0.0046000987178931715,\n",
       " ('ce2ef786a38606e8686fa9da4342239e9914cc16',\n",
       "  'Managing Knowledge Integration in a National Health-Care Crisis: Lessons Learned From Combating SARS in Singapore'): 0.0045406166940477,\n",
       " ('762a3b35a577545dab2dfc6141edc5d9596bc010',\n",
       "  'Invited Commentary An Invited Commentary on \"World Health Organization declares global emergency: A review of the 2019 novel Coronavirus (COVID-19)\": Emergency or new reality?'): 0.0045234437753775775,\n",
       " ('d447b61b884c9df5ce5ce9a99810f69b6fc81c21',\n",
       "  'Study on the interaction mechanism between DNA and the main active components in Scutellaria baicalensis Georgi'): 0.004464051211922806,\n",
       " ('d1dba37d029616f493bad86f326925169b7d2d88',\n",
       "  'In situ airborne virus inactivation by microwave irradiation'): 0.0043594902953303,\n",
       " ('7489bc89c51e54b0dd1538148a65c926ae1a5e42',\n",
       "  'Identification of a New Region of SARS-CoV S Protein Critical for Viral Entry'): 0.004313867074454278,\n",
       " ('8d8ab6d3f0c6ff09e306c23c87f823f9382ff32e',\n",
       "  'Responses of Human Endothelial Cells to Pathogenic and Non-Pathogenic Leptospira Species'): 0.004146963556265584,\n",
       " ('930d03ff2d988e108373453efb57b07eb819bee2', ''): 0.004070912645106514,\n",
       " ('38e8b05eaba6ecf0ce1573d2ae58c30805ba6ab7',\n",
       "  'COVID-19 outbreak: succinct advice for dentists and oral healthcare professionals'): 0.0039309049233302975,\n",
       " ('d6ed376c58b4945786f08b2d23010d0a29a80f8c',\n",
       "  'Identification of a linear epitope on the capsid protein of classical swine fever virus'): 0.003869193630153992,\n",
       " ('b1b407772349f7f60ac2a4018c4ea86425dac051',\n",
       "  \"Understanding the Socio-Economic Disruption in the United States during COVID-19's Early Days\"): 0.0037801677149849173,\n",
       " ('d3c2e2839498c613ee95739dce7052109750362c',\n",
       "  'Long-Term Persistence of IgG Antibodies in SARS-CoV Infected Healthcare Workers 2 3'): 0.0036313945491345586,\n",
       " ('f61cc571aabcbdaba54ac24222fa85369d31d65c',\n",
       "  'Primary Structure and Translation of a Defective Interfering RNA of Murine Coronavirus'): 0.0036266056939210107,\n",
       " ('ef4e3b14e2b688bb7ecc22b6b7b34dc6c24c35b9',\n",
       "  'Comparison of the use of AnaConDa® versus AnaConDa-S® during the post-operative period of cardiac surgery under standard conditions of practice'): 0.003501563045082286,\n",
       " ('602e006ebff0a1b81a8d922ce9504421f218bfb7',\n",
       "  'Interrelationship between Climatic, Ecologic, Social, and Cultural Determinants Affecting Dengue Emergence and Transmission in Puerto Rico and Their Implications for Zika Response'): 0.00343951428377673,\n",
       " ('64fdb599610b53279bd5bd92e013a7575f0f2632',\n",
       "  'Quantifying the association between domestic travel and the exportation of novel coronavirus (2019-nCoV) cases from Wuhan, China in 2020: a correlational analysis'): 0.003386720147646994,\n",
       " ('d4455d32e89e5b0097ce89fe9eec2e89a5ae3723', ''): 0.003208232755075008,\n",
       " ('c403eaa2d3d10754ac6474e74aa895590333098d',\n",
       "  'Section II: Poster Sessions ADOLESCENT & CHILD HEALTH P1-01 The Prevalence of Overweight and its Risk Factors among Adolescents in an Urban City in a Developing Nation'): 0.003071987558699842,\n",
       " ('03c031d0f2d07da7ac2f393bb472f4607b3c4fcc',\n",
       "  'Mortality attributable to Plasmodium vivax malaria: a clinical audit from Papua, Indonesia'): 0.0029842845289369357,\n",
       " ('5bd93bcee16c92a590f5d8b59fb2fe3863dbe54f',\n",
       "  'Seroprevalence of SARS-CoV-2 among children visiting a hospital during the initial Seattle outbreak'): 0.0027606135506706626,\n",
       " ('85af47db4dd6febff0540937dea4561a6bf5ca4c', ''): 0.002756638418039572,\n",
       " ('e887fef19fa475875cadb93da90e1ed3367d0780',\n",
       "  'Online Mental Health Services in Indonesia During the COVID-19 Outbreak'): 0.002550108780673249,\n",
       " ('c0f66e2778f055a98109d20ca60b993d27740c4d',\n",
       "  'The propagation of the economic impact through supply chains: The case of a mega-city lockdown against the spread of COVID-19'): 0.0024358327684328,\n",
       " ('6f4481b8604e37b866ae685cc5f9a11b50d6b39c',\n",
       "  'Viruses and atypical bacteria in the respiratory tract of immunocompromised and immunocompetent patients with airway infection'): 0.0022875806810750943,\n",
       " ('4addb4c8a6224c484751efa757fe646745172e3e', ''): 0.0021977949150598125,\n",
       " ('51874f8f0f599ecbe8a7e99fd17313819b930725',\n",
       "  'Decreasing radiographs in neonates through targeted quality improvement interventions'): 0.0021544408341034656,\n",
       " ('9aac2efe358411c58bfb7946a9080e436be0a50e',\n",
       "  'Health Promoting Schools: An Update'): 0.0020468586819764774,\n",
       " ('6be822f9e2938a2e85cc6b2d96ee66b23d5fc283',\n",
       "  'Infectious Disease Modeling and the Dynamics of Transmission'): 0.0019133350670040264,\n",
       " ('01b4809bfc109716fc6296b2f28145b3a4761591',\n",
       "  'An overview on severe infections in Europe'): 0.001793155470618069,\n",
       " ('cc454f9f4d37ba5a3ff3995c28af233fff7f457e',\n",
       "  'A Rapid COVID-19 RT-PCR Detection Assay for Low Resource Settings'): 0.0017889390790646676,\n",
       " ('b8cecd539e739e6e755115bea730015a9347cab9',\n",
       "  'BigO: A public health decision support system for measuring obesogenic behaviors of children in relation to their local environment'): 0.0017466538708335209,\n",
       " ('27705658d26b7a7f1d842d4c9d55b8a7486dbee6', ''): 0.0017128773431396554,\n",
       " ('902feae616d8f0ffb508ef3a4a1fbc344bb63133',\n",
       "  'Antibody response of definitive hosts against antigens of two life stages of the neuropathogenic schistosome Trichobilharzia regenti'): 0.001712749651998179,\n",
       " ('8517fd371d6f71a576a796939f66571380d99fb8', ''): 0.0016977389821514542,\n",
       " ('885bbab22b76af426ea2b5d7c14f6b9f83543ff3',\n",
       "  'SYMPOSIUM: Pathobiology of the Oligodendrocyte Viral Induced Demyelination'): 0.0016556644621838754,\n",
       " ('b2208d8f6b2f158f7ba86042078f85fee99bc4d5',\n",
       "  'Inhibition of human immunodeficiency virus type 1 by RNA interference using long-hairpin RNA'): 0.001639833336935079,\n",
       " ('66309c65612bed65732f79f347693a170e10e1f8',\n",
       "  'Angiotensin-converting enzyme 2/ angiotensin-(1-7)/Mas axis prevents lipopolysaccharide-induced apoptosis of pulmonary microvascular endothelial cells by inhibiting JNK/NF-kB pathways'): 0.0012846660131141945,\n",
       " ('25a8153e0176954be0a601ed40b4c7810e8857a9',\n",
       "  'Editorial'): 0.001247263913055948,\n",
       " ('5e095761210e537f91067c12ce46f396c0338175',\n",
       "  'Mesenchymal Stem Cell Infusion Shows Promise for Combating Coronavirus (COVID-19)-Induced Pneumonia'): 0.00121899550977599,\n",
       " ('32b8b12a0247b3413442631d5a1bee05a4e5d689',\n",
       "  'H O W D O I ? How do we … integrate pathogen reduced platelets into our hospital blood bank inventory?'): 0.0011818579549794758,\n",
       " ('782e07fd19eca7250b9f332a9b6021c3185c583b',\n",
       "  'Article NRAV, a Long Noncoding RNA, Modulates Antiviral Responses through Suppression of Interferon-Stimulated Gene Transcription'): 0.00116568311271788,\n",
       " ('51573a9d5b4012f520d0c71ac4b22c75fd659d95',\n",
       "  'Comparative analyses of the nucleocapsid genes of several strains of infectious bronchitis virus and other coronaviruses'): 0.0011558624930224116,\n",
       " ('5b33d93a5e943df43ae875998b4431cdf573bea2',\n",
       "  'Chemical microarray: a new tool for drug screening and discovery'): 0.0011392276557500684,\n",
       " ('6b9206c800edb0c72591b3f6976d551fa2d38e9d',\n",
       "  'Sense of coherence and burnout among school psychologists: The moderating role of loneliness'): 0.0010723381100760391,\n",
       " ('c7a253b00f6d2665d359175bb1476caacd351c24',\n",
       "  'Early diagnosis of SARS Coronavirus infection by real time RT-PCR'): 0.001044279113211095,\n",
       " ('8a0731d1284b815e6139b1a40a4cc1f3b68dd4f3',\n",
       "  'Genome3D: A viewer-model framework for integrating and visualizing multi-scale epigenomic information within a three-dimensional genome'): 0.0008587525628577942,\n",
       " ('d603f3e8fe2c3f72aa9c5cb1934e254f5ad21dc6',\n",
       "  'Pandemic Influenza'): 0.0005016108588828866,\n",
       " ('c3d0cb6f9abb81adb9d8c4b601902c4d03c880bc',\n",
       "  'Sex-specific regulation of chemokine Cxcl5/ 6 controls neutrophil recruitment and tissue injury in acute inflammatory states'): 0.00039290238342054823,\n",
       " ('31efc556bf4377e23d851a5d24831f62853a9564',\n",
       "  'Isolation and Identification of Virus-Specific mRNAs in Cells Infected with Mouse Hepatitis Virus (MHV-A59)'): 0.0003870012282775493,\n",
       " ('9ce4da187b184d5f505651cf52d0fdde0272739b',\n",
       "  'Optimization of Resources and Modifications in Acute Ischemic Stroke Care in Response to the Global COVID-19 Pandemic Optimization of Resources and Modifications in Acute Ischemic Stroke Care in Response to the Global COVID-19 Pandemic, Journal of Stroke Cerebrovascular Diseases Optimization of Resources and Modifications in Acute Ischemic Stroke Care in Response to the Global COVID-19 Pandemic'): 0.0,\n",
       " ('b8751032b1e8c1fd493c0e3e6a895c0173042020', ''): 0.0,\n",
       " ('778d719ea8d1b604972284750890cb05909afb5a',\n",
       "  'Inflammatory markers in Covid-19 Patients: a systematic review and meta-analysis'): 0.0,\n",
       " ('7c3c810250221b9947a2848a87a2b9126c545939',\n",
       "  'Estimate of the development of the epidemic reproduction number Rt from Coronavirus SARS-CoV-2 case data and implications for political measures based on prognostics'): 0.0,\n",
       " ('3f78a6fa7d8e731fe72c25d105133e0ad126da7d',\n",
       "  'Host Translation at the Nexus of Infection and Immunity'): 0.0,\n",
       " ('4105b546606a6e86242ddb5189633deeaf595d20',\n",
       "  'Differential effects of triptolide and tetrandrine on activation of COX-2, NF-κB, and AP-1 and virus production in dengue virus-infected human lung cells'): 0.0,\n",
       " ('10246614a526400cbc3b1529886545d65a489938',\n",
       "  'ARTICLE IN PRESS G Model ScienceDirect Informations on psychotropics and their adaptations for patients suffering from mental disorders in France during the SARS-CoV-2 epidemic'): 0.0,\n",
       " ('52069d14f038d493dce5d6cc1fdcdc7c1f0823f9', ''): 0.0,\n",
       " ('d4fd980278883801d7d4cc4f13504de55b612905',\n",
       "  'Assessment of periradicular microbiota by DNA-DNA hybridization of periradicular microbiota by DNA-DNA hybridization. Endod'): 0.0,\n",
       " ('3a7ebaf008372234ce0e52512de3d9fc7743c53c',\n",
       "  'Letters Rethinking the role of senior medical students in the COVID-19 response'): 0.0,\n",
       " ('db54ae914686012f83d30685df55e0581b07222e',\n",
       "  'Identification of complement-related host genetic risk factors associated with influenza A(H1N1)pdm09 outcome: challenges ahead'): 0.0,\n",
       " ('28b8030147058fa54c8967521bf3d9e69f680650',\n",
       "  'Development and Evaluation of Multiplex Real-time RT-PCR Assays for Seasonal, Pandemic A/H1pdm09 and Avian A/H5 Influenza Viruses Detection'): 0.0,\n",
       " ('5d9f0b8506dbe532234ee7ff0057022bb0cceed0',\n",
       "  'Protection of human erythrocyte using Crinum asiaticum extract and lycorine from oxidative damage induced by 2-amidinopropane'): 0.0}"
      ]
     },
     "execution_count": 170,
     "metadata": {},
     "output_type": "execute_result"
    }
   ],
   "source": [
    "c"
   ]
  }
 ],
 "metadata": {
  "kernelspec": {
   "display_name": "Python 3",
   "language": "python",
   "name": "python3"
  },
  "language_info": {
   "codemirror_mode": {
    "name": "ipython",
    "version": 3
   },
   "file_extension": ".py",
   "mimetype": "text/x-python",
   "name": "python",
   "nbconvert_exporter": "python",
   "pygments_lexer": "ipython3",
   "version": "3.6.10"
  }
 },
 "nbformat": 4,
 "nbformat_minor": 4
}
